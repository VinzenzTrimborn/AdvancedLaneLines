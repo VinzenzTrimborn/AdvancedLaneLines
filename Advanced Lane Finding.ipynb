{
 "cells": [
  {
   "cell_type": "markdown",
   "metadata": {},
   "source": [
    "## Import Packages"
   ]
  },
  {
   "cell_type": "code",
   "execution_count": 1,
   "metadata": {},
   "outputs": [],
   "source": [
    "#importing some useful packages\n",
    "import matplotlib.pyplot as plt\n",
    "import matplotlib.image as mpimg\n",
    "import numpy as np\n",
    "import cv2\n",
    "import glob\n",
    "%matplotlib inline"
   ]
  },
  {
   "cell_type": "code",
   "execution_count": 2,
   "metadata": {},
   "outputs": [],
   "source": [
    "#Print to images next to each other:\n",
    "def print2images(img1,img2):\n",
    "    f, (ax1, ax2) = plt.subplots(1, 2, figsize=(24, 9))\n",
    "    f.tight_layout()\n",
    "    ax1.imshow(img1)\n",
    "    ax1.set_title('Image1', fontsize=50)\n",
    "    ax2.imshow(img2)\n",
    "    ax2.set_title('Image2', fontsize=50)\n",
    "    plt.subplots_adjust(left=0., right=1, top=0.9, bottom=0.)"
   ]
  },
  {
   "cell_type": "markdown",
   "metadata": {},
   "source": [
    "### Compute the camera calibration matrix and distortion coefficients given a set of chessboard images."
   ]
  },
  {
   "cell_type": "code",
   "execution_count": 3,
   "metadata": {},
   "outputs": [],
   "source": [
    "# Function that uses the calibration images and returns the object points and image points to calebrate an image\n",
    "def calibrate():\n",
    "    #reading in the path to callibration images\n",
    "    images = glob.glob(\"camera_cal/calibration*.jpg\")\n",
    "\n",
    "    nx = 9 #number of inside corners in x\n",
    "    ny = 6 #number of inside corners in y\n",
    "\n",
    "    objectpoints=[] #3D Points in real world\n",
    "    imagespoints=[] #2D Points in image plane\n",
    "\n",
    "    #TODO: What am I doing here?\n",
    "    objp=np.zeros((ny*nx,3), np.float32)\n",
    "    objp[:,:2]=np.mgrid[0:nx,0:ny].T.reshape(-1,2)\n",
    "\n",
    "\n",
    "    for fname in images:\n",
    "        img = cv2.imread(fname) #reading in\n",
    "        gray = cv2.cvtColor(img, cv2.COLOR_BGR2GRAY) #convert to gray\n",
    "        ret, corners = cv2.findChessboardCorners(gray, (nx, ny), None)\n",
    "        if ret: #If cornes found add images points & object points\n",
    "            imagespoints.append(corners)\n",
    "            objectpoints.append(objp)\n",
    "    return [objectpoints,imagespoints]\n",
    "\n",
    "# Function that takes an image performs the camera calibration, image distortion correction and \n",
    "# performs the camera calibration, image distortion correction and returns the undistorted image\n",
    "def image_undistort(img, objpoints, imgpoints):\n",
    "    ret, mtx, dist, rvecs, tvecs = cv2.calibrateCamera(objpoints, imgpoints, img.shape[1:], None, None)\n",
    "    undist = cv2.undistort(img, mtx, dist, None, mtx)\n",
    "    return undist"
   ]
  }
 ],
 "metadata": {
  "kernelspec": {
   "display_name": "Python 3",
   "language": "python",
   "name": "python3"
  },
  "language_info": {
   "codemirror_mode": {
    "name": "ipython",
    "version": 3
   },
   "file_extension": ".py",
   "mimetype": "text/x-python",
   "name": "python",
   "nbconvert_exporter": "python",
   "pygments_lexer": "ipython3",
   "version": "3.6.3"
  }
 },
 "nbformat": 4,
 "nbformat_minor": 2
}
